{
 "cells": [
  {
   "cell_type": "code",
   "execution_count": 1,
   "metadata": {},
   "outputs": [],
   "source": [
    "import time\n",
    "import datetime"
   ]
  },
  {
   "cell_type": "markdown",
   "metadata": {},
   "source": [
    "Refer sites \n",
    "https://www.w3schools.com/python/python_datetime.asp\n",
    "https://www.w3resource.com/python-exercises/date-time-exercise/\n",
    "https://docs.python.org/3.8/library/datetime.html?highlight=datetime#module-datetime\n"
   ]
  },
  {
   "cell_type": "markdown",
   "metadata": {},
   "source": [
    "# DateTime learning"
   ]
  },
  {
   "cell_type": "code",
   "execution_count": 18,
   "metadata": {},
   "outputs": [
    {
     "name": "stdout",
     "output_type": "stream",
     "text": [
      "current date and time 2021-02-08 07:00:47.248340\n",
      "2021-02-08 07:00:47.248340\n",
      "2021-02-08 07:00:47.248340\n"
     ]
    }
   ],
   "source": [
    "print(\"current date and time\", datetime.datetime.now())\n",
    "ct = datetime.datetime.now()\n",
    "today1 = datetime.datetime.today()\n",
    "print(ct)\n",
    "print(today1)\n",
    "\n",
    "# Here you have created a date time object\n",
    "# the data time classes variables are day, month, year,hour,minutes,second , microscont\n",
    "# to access the day value of object today today1.day\n",
    "# to access the month value of object month today1.month\n",
    "# to access the month value of object year today1.year"
   ]
  },
  {
   "cell_type": "code",
   "execution_count": 54,
   "metadata": {},
   "outputs": [
    {
     "name": "stdout",
     "output_type": "stream",
     "text": [
      "8\n"
     ]
    }
   ],
   "source": [
    "# to access the day value of object today today1.day\n",
    "day1 = today1.day\n",
    "print(day1)"
   ]
  },
  {
   "cell_type": "code",
   "execution_count": 56,
   "metadata": {},
   "outputs": [
    {
     "data": {
      "text/plain": [
       "2"
      ]
     },
     "execution_count": 56,
     "metadata": {},
     "output_type": "execute_result"
    }
   ],
   "source": [
    "# to access the month value of object month today1.month\n",
    "month1 = today1.month\n",
    "month1"
   ]
  },
  {
   "cell_type": "code",
   "execution_count": 62,
   "metadata": {},
   "outputs": [
    {
     "name": "stdout",
     "output_type": "stream",
     "text": [
      "30\n",
      "3\n",
      "2017\n",
      "22\n",
      "0\n"
     ]
    }
   ],
   "source": [
    "# you can create date time objects like today1 by using functions and passing strings to datetime()\n",
    "# please do some excercise on it\n",
    "\n",
    "rocket_launch_time = datetime.datetime(2017,3,30,22,27,0)\n",
    "rocket_launch_time\n",
    "print(rocket_launch_time.day)\n",
    "print(rocket_launch_time.month)\n",
    "print(rocket_launch_time.year)\n",
    "print(rocket_launch_time.hour)\n",
    "print(rocket_launch_time.second)"
   ]
  },
  {
   "cell_type": "markdown",
   "metadata": {},
   "source": [
    "A reference of all the legal format codes:\n",
    "\n",
    "Directive\tDescription\tExample\tTry it\n",
    "%a\tWeekday, short version\tWed\t\n",
    "%A\tWeekday, full version\tWednesday\t\n",
    "%w\tWeekday as a number 0-6, 0 is Sunday\t3\t\n",
    "%d\tDay of month 01-31\t31\t\n",
    "%b\tMonth name, short version\tDec\t\n",
    "%B\tMonth name, full version\tDecember\t\n",
    "%m\tMonth as a number 01-12\t12\t\n",
    "%y\tYear, short version, without century\t18\t\n",
    "%Y\tYear, full version\t2018\t\n",
    "%H\tHour 00-23\t17\t\n",
    "%I\tHour 00-12\t05\t\n",
    "%p\tAM/PM\tPM\t\n",
    "%M\tMinute 00-59\t41\t\n",
    "%S\tSecond 00-59\t08\t\n",
    "%f\tMicrosecond 000000-999999\t548513\t\n",
    "%z\tUTC offset\t+0100\t\n",
    "%Z\tTimezone\tCST\t\n",
    "%j\tDay number of year 001-366\t365\t\n",
    "%U\tWeek number of year, Sunday as the first day of week, 00-53\t52\t\n",
    "%W\tWeek number of year, Monday as the first day of week, 00-53\t52\t\n",
    "%c\tLocal version of date and time\tMon Dec 31 17:41:00 2018\t\n",
    "%x\tLocal version of date\t12/31/18\t\n",
    "%X\tLocal version of time\t17:41:00\t\n",
    "%%\tA % character\t%\t\n",
    "%G\tISO 8601 year\t2018\t\n",
    "%u\tISO 8601 weekday (1-7)\t1\t\n",
    "%V\tISO 8601 weeknumber (01-53)\t01\t\n"
   ]
  },
  {
   "cell_type": "code",
   "execution_count": null,
   "metadata": {},
   "outputs": [],
   "source": []
  },
  {
   "cell_type": "code",
   "execution_count": 16,
   "metadata": {},
   "outputs": [
    {
     "name": "stdout",
     "output_type": "stream",
     "text": [
      "June\n",
      "Feb\n"
     ]
    }
   ],
   "source": [
    "x = datetime.datetime(2018, 6, 1)\n",
    "\n",
    "print(x.strftime(\"%B\")) # %B Prints month\n",
    "print(today1.strftime(\"%b\")) #%b prints the shorter version of time"
   ]
  },
  {
   "cell_type": "code",
   "execution_count": 19,
   "metadata": {},
   "outputs": [
    {
     "name": "stdout",
     "output_type": "stream",
     "text": [
      "00\n",
      "07\n"
     ]
    }
   ],
   "source": [
    "print(x.strftime(\"%H\")) # %H prints hour , While defining x explicit mention was hour was not done hence the detault value is \n",
    "                        # is taken for calculation\n",
    "print(today1.strftime(\"%H\"))    "
   ]
  },
  {
   "cell_type": "code",
   "execution_count": 20,
   "metadata": {},
   "outputs": [
    {
     "name": "stdout",
     "output_type": "stream",
     "text": [
      "01\n",
      "08\n"
     ]
    }
   ],
   "source": [
    "print(x.strftime(\"%d\"))  #%d prints day of the month \n",
    "print(today1.strftime(\"%d\"))"
   ]
  },
  {
   "cell_type": "markdown",
   "metadata": {},
   "source": [
    "# Date Time Practice"
   ]
  },
  {
   "cell_type": "markdown",
   "metadata": {},
   "source": [
    "1. Write a Python script to display the various Date Time formats - Go to the editor\n",
    "a) Current date and time\n",
    "b) Current year\n",
    "c) Month of year\n",
    "d) Week number of the year\n",
    "e) Weekday of the week\n",
    "f) Day of year\n",
    "g) Day of the month\n",
    "h) Day of week"
   ]
  },
  {
   "cell_type": "code",
   "execution_count": 23,
   "metadata": {},
   "outputs": [
    {
     "data": {
      "text/plain": [
       "datetime.datetime(2021, 2, 8, 7, 9, 49, 12427)"
      ]
     },
     "execution_count": 23,
     "metadata": {},
     "output_type": "execute_result"
    }
   ],
   "source": [
    "ptime1 = datetime.datetime.now()\n",
    "ptime1"
   ]
  },
  {
   "cell_type": "code",
   "execution_count": 24,
   "metadata": {},
   "outputs": [
    {
     "name": "stdout",
     "output_type": "stream",
     "text": [
      "Current Date and time is  2021-02-08 07:09:49.012427\n"
     ]
    }
   ],
   "source": [
    "#Current Date and time\n",
    "print(\"Current Date and time is \",ptime1)"
   ]
  },
  {
   "cell_type": "code",
   "execution_count": 26,
   "metadata": {},
   "outputs": [
    {
     "name": "stdout",
     "output_type": "stream",
     "text": [
      "Current year is  2021\n",
      "Current year is  2021\n"
     ]
    }
   ],
   "source": [
    "# Current year \n",
    "print(\"Current year is \",ptime1.year)\n",
    "# Current Year printing using String functin of time strftime\n",
    "print(\"Current year is \", ptime1.strftime(\"%Y\"))"
   ]
  },
  {
   "cell_type": "code",
   "execution_count": 29,
   "metadata": {},
   "outputs": [
    {
     "name": "stdout",
     "output_type": "stream",
     "text": [
      "The month of the year is  2\n",
      "the month of the year is  February\n",
      "the month of the year is  Feb\n"
     ]
    }
   ],
   "source": [
    "# Month of the year\n",
    "\n",
    "#printing numical value of the month\n",
    "print(\"The month of the year is \", ptime1.month) \n",
    "\n",
    "#print the month in string\n",
    "print(\"the month of the year is \",ptime1.strftime(\"%B\") )\n",
    "print(\"the month of the year is \",ptime1.strftime(\"%b\") )"
   ]
  },
  {
   "cell_type": "code",
   "execution_count": 37,
   "metadata": {},
   "outputs": [
    {
     "name": "stdout",
     "output_type": "stream",
     "text": [
      "0\n",
      "06\n"
     ]
    }
   ],
   "source": [
    "# week number of the year\n",
    "\n",
    "print(ptime1.weekday())\n",
    "print(ptime1.strftime(\"%W\"))"
   ]
  },
  {
   "cell_type": "markdown",
   "metadata": {},
   "source": [
    "2. Write a Python program to determine whether a given year is a leap year."
   ]
  },
  {
   "cell_type": "code",
   "execution_count": 53,
   "metadata": {},
   "outputs": [
    {
     "data": {
      "text/plain": [
       "505.25"
      ]
     },
     "execution_count": 53,
     "metadata": {},
     "output_type": "execute_result"
    }
   ],
   "source": [
    "ptime1 =datetime.datetime.now()\n",
    "ptime1\n",
    "year1 = ptime1.year\n",
    "LY = year1/4\n",
    "LY"
   ]
  },
  {
   "cell_type": "markdown",
   "metadata": {},
   "source": [
    "3. Write a Python program to convert a string to datetime. Go to the editor\n",
    "Sample String : Jan 1 2014 2:43PM"
   ]
  },
  {
   "cell_type": "code",
   "execution_count": 68,
   "metadata": {},
   "outputs": [
    {
     "name": "stdout",
     "output_type": "stream",
     "text": [
      " The date in date object is : 2021-02-09\n",
      " The day in date object is : 9\n",
      " The month in date object is : 2\n",
      " The year in date object is : 2021\n"
     ]
    }
   ],
   "source": [
    "# Using the function date() of class datetime to conver string 2021, 2, 9 to date object\n",
    "\n",
    "Time3 = datetime.date(2021, 2, 9)\n",
    "print(\" The date in date object is :\", Time3)\n",
    "print(\" The day in date object is :\",Time3.day)\n",
    "print(\" The month in date object is :\",Time3.month)\n",
    "print(\" The year in date object is :\",Time3.year)"
   ]
  },
  {
   "cell_type": "markdown",
   "metadata": {},
   "source": [
    "4,Write a Python program to get the current time in Python. Go to the editor\n",
    "Sample Format :  13:19:49.078205"
   ]
  },
  {
   "cell_type": "code",
   "execution_count": 77,
   "metadata": {},
   "outputs": [
    {
     "name": "stdout",
     "output_type": "stream",
     "text": [
      " The Time in time object is : 13:19:49.078205\n",
      " The Hour in time object is : 13\n",
      " The Minute in time object is : 19\n",
      " The Second in time object is : 49\n",
      " The MicroSecond in time object is : 78205\n"
     ]
    }
   ],
   "source": [
    "# Using the fumnction time() in class datatime to coverting time in string 13,19,49,78205\n",
    "\n",
    "time4 = datetime.time(13,19,49,78205)\n",
    "time4      \n",
    "print(\" The Time in time object is :\", time4)\n",
    "print(\" The Hour in time object is :\",time4.hour)\n",
    "print(\" The Minute in time object is :\",time4.minute)\n",
    "print(\" The Second in time object is :\",time4.second)\n",
    "print(\" The MicroSecond in time object is :\",time4.microsecond)"
   ]
  },
  {
   "cell_type": "markdown",
   "metadata": {},
   "source": [
    "5. Write a Python program to subtract five days from current date. Go to the editor\n",
    "   Sample Date :\n",
    "   Current Date : 2015-06-22\n",
    "   5 days before Current Date : 2015-06-17"
   ]
  },
  {
   "cell_type": "code",
   "execution_count": 85,
   "metadata": {},
   "outputs": [
    {
     "name": "stdout",
     "output_type": "stream",
     "text": [
      "2015-06-22\n"
     ]
    },
    {
     "data": {
      "text/plain": [
       "datetime.date(2015, 6, 17)"
      ]
     },
     "execution_count": 85,
     "metadata": {},
     "output_type": "execute_result"
    }
   ],
   "source": [
    "# Create the date object by passing the string in yyyy,mm,dd format to date() in datatime class\n",
    "\n",
    "currentdate5 = datetime.date(2015,6,22)\n",
    "print(\" The current date is \",currentdate5)\n",
    "\n",
    "# Create the timedealta object , in this case time delta of 5 days by passing 5 to timedelta() in datetime class\n",
    "\n",
    "# timedelta(days=0, seconds=0, microseconds=0, milliseconds=0, minutes=0, hours=0, weeks=0)\n",
    "# All arguments are optional and default to 0. Arguments may be integers or floats, and may be positive or negative.\n",
    "#Only days, seconds and microseconds are stored internally\n",
    "\n",
    "delta5d = datetime.timedelta(5)\n",
    "delta5d\n",
    "\n",
    "# perform arithmetic operation with date object\n",
    "date5e = currentdate5 - delta5d\n",
    "date5e\n"
   ]
  },
  {
   "cell_type": "markdown",
   "metadata": {},
   "source": [
    "7. Write a Python program to print yesterday, today, tomorrow. "
   ]
  },
  {
   "cell_type": "code",
   "execution_count": 94,
   "metadata": {},
   "outputs": [
    {
     "name": "stdout",
     "output_type": "stream",
     "text": [
      "today 2021-02-09 06:49:19.798976\n",
      "tomrrow 2021-02-10 06:49:19.798976\n",
      "yesterday 2021-02-08 06:49:19.798976\n"
     ]
    }
   ],
   "source": [
    "\n",
    "# Use today() function in datetime class to create an instance of today object\n",
    "today7 = datetime.datetime.today()\n",
    "today7\n",
    "\n",
    "#Use timedate() function to create a timedelta object of 1 day by passing 1 as parameter to timedelta()\n",
    "timedelta7 = datetime.timedelta(1)\n",
    "\n",
    "\n",
    "print(\"today\",today7)\n",
    "print(\"tomrrow\",today7+timedelta7)\n",
    "print(\"yesterday\",today7-timedelta7)"
   ]
  },
  {
   "cell_type": "markdown",
   "metadata": {},
   "source": [
    "8. Write a Python program to convert the date to datetime (midnight of the date) in Python. Go to the editor\n",
    "Sample Output : 2015-06-22 00:00:00"
   ]
  },
  {
   "cell_type": "code",
   "execution_count": 92,
   "metadata": {},
   "outputs": [
    {
     "data": {
      "text/plain": [
       "datetime.datetime(2015, 6, 22, 0, 0)"
      ]
     },
     "execution_count": 92,
     "metadata": {},
     "output_type": "execute_result"
    }
   ],
   "source": [
    "# Use datetime() in datetime class to create datetime object by passing the string 2015,6,22,0,0,0 .\n",
    "#class datetime.datetime(year, month, day, hour=0, minute=0, second=0, microsecond=0, tzinfo=None, *, fold=0) The year, \n",
    "\n",
    "date8 = datetime.datetime(2015,6,22,0,0,0)\n",
    "date8"
   ]
  },
  {
   "cell_type": "markdown",
   "metadata": {},
   "source": [
    "9. Write a Python program to print next 5 days starting from today."
   ]
  },
  {
   "cell_type": "code",
   "execution_count": 99,
   "metadata": {},
   "outputs": [
    {
     "name": "stdout",
     "output_type": "stream",
     "text": [
      "First day from now  2021-02-10 06:53:11.485142\n",
      "Second day from now  2021-02-11 06:53:11.485142\n",
      "Third day from now  2021-02-12 06:53:11.485142\n",
      "Fourth day from now  2021-02-13 06:53:11.485142\n",
      "Firth day from now  2021-02-14 06:53:11.485142\n"
     ]
    }
   ],
   "source": [
    "today9 = datetime.datetime.today()\n",
    "deltatime9 = datetime.timedelta(1)\n",
    "\n",
    "\n",
    "print(\"First day from now \", today9+deltatime9)\n",
    "print(\"Second day from now \", today9+2*deltatime9)\n",
    "print(\"Third day from now \", today9+3*deltatime9)\n",
    "print(\"Fourth day from now \", today9+4*deltatime9)\n",
    "print(\"Firth day from now \", today9+5*deltatime9)"
   ]
  },
  {
   "cell_type": "code",
   "execution_count": null,
   "metadata": {},
   "outputs": [],
   "source": []
  }
 ],
 "metadata": {
  "kernelspec": {
   "display_name": "Python 3",
   "language": "python",
   "name": "python3"
  },
  "language_info": {
   "codemirror_mode": {
    "name": "ipython",
    "version": 3
   },
   "file_extension": ".py",
   "mimetype": "text/x-python",
   "name": "python",
   "nbconvert_exporter": "python",
   "pygments_lexer": "ipython3",
   "version": "3.8.5"
  }
 },
 "nbformat": 4,
 "nbformat_minor": 4
}

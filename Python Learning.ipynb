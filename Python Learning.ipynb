{
 "cells": [
  {
   "cell_type": "markdown",
   "metadata": {},
   "source": [
    "# Using Print Statement in python\n",
    "#Simple print Statement"
   ]
  },
  {
   "cell_type": "code",
   "execution_count": 1,
   "metadata": {},
   "outputs": [
    {
     "name": "stdout",
     "output_type": "stream",
     "text": [
      "Welcome to python\n"
     ]
    }
   ],
   "source": [
    "print (\"Welcome to python\")"
   ]
  },
  {
   "cell_type": "markdown",
   "metadata": {},
   "source": [
    "# Getting input from Keyboard  \n",
    "\n",
    "   Use the function input(), this function gets the string entered onthe keyboard"
   ]
  },
  {
   "cell_type": "code",
   "execution_count": 2,
   "metadata": {},
   "outputs": [
    {
     "name": "stdout",
     "output_type": "stream",
     "text": [
      "Pleae input you name : Sundaresan\n"
     ]
    }
   ],
   "source": [
    "name = input(\"Pleae input you name : \" )"
   ]
  },
  {
   "cell_type": "markdown",
   "metadata": {},
   "source": [
    "Appending Strings in this case appending Hello to Name"
   ]
  },
  {
   "cell_type": "code",
   "execution_count": 3,
   "metadata": {},
   "outputs": [
    {
     "name": "stdout",
     "output_type": "stream",
     "text": [
      "Hello  Sundaresan\n"
     ]
    }
   ],
   "source": [
    "print(\"Hello \", name)"
   ]
  },
  {
   "cell_type": "markdown",
   "metadata": {},
   "source": [
    "# Getting interger from keyboard using input() function \n",
    "\n",
    "Get the number as string and typecast the string to integer and store it in a variable"
   ]
  },
  {
   "cell_type": "code",
   "execution_count": 4,
   "metadata": {},
   "outputs": [
    {
     "name": "stdout",
     "output_type": "stream",
     "text": [
      " enter your age : 44\n"
     ]
    }
   ],
   "source": [
    "Age = (int) (input(\" enter your age : \", ))"
   ]
  },
  {
   "cell_type": "code",
   "execution_count": 5,
   "metadata": {},
   "outputs": [
    {
     "name": "stdout",
     "output_type": "stream",
     "text": [
      "Your Age is  44\n"
     ]
    }
   ],
   "source": [
    "print(\"Your Age is \" , Age)"
   ]
  },
  {
   "cell_type": "markdown",
   "metadata": {},
   "source": [
    "# Getting Float  from keyboard using input() function \n",
    "\n",
    "Get the number as string ( in the form 50.0 or 55.5 ) and typecast the string to float and store it in a variable"
   ]
  },
  {
   "cell_type": "code",
   "execution_count": 6,
   "metadata": {},
   "outputs": [
    {
     "name": "stdout",
     "output_type": "stream",
     "text": [
      " enter cost of 10 kg of potato : 101\n"
     ]
    }
   ],
   "source": [
    "Potato_Cost  = (float) (input(\" enter cost of 10 kg of potato : \", ))"
   ]
  },
  {
   "cell_type": "code",
   "execution_count": 7,
   "metadata": {},
   "outputs": [
    {
     "name": "stdout",
     "output_type": "stream",
     "text": [
      "101.0\n"
     ]
    }
   ],
   "source": [
    "print(Potato_Cost)"
   ]
  },
  {
   "cell_type": "code",
   "execution_count": 8,
   "metadata": {},
   "outputs": [
    {
     "name": "stdout",
     "output_type": "stream",
     "text": [
      "Cost of one kg of potato is :  10.1\n"
     ]
    }
   ],
   "source": [
    "One_Kg_Potato_cost = Potato_Cost/10\n",
    "print(\"Cost of one kg of potato is : \" , One_Kg_Potato_cost) # Divides the number by 10"
   ]
  },
  {
   "cell_type": "markdown",
   "metadata": {},
   "source": [
    "# Chapter 1 \n",
    "# The Basics "
   ]
  },
  {
   "cell_type": "markdown",
   "metadata": {},
   "source": [
    "001 Ask for the user’s first name and display the output message Hello [First Name] ."
   ]
  },
  {
   "cell_type": "code",
   "execution_count": 56,
   "metadata": {},
   "outputs": [
    {
     "name": "stdout",
     "output_type": "stream",
     "text": [
      "Sundar\n",
      "Hello Sundar\n"
     ]
    }
   ],
   "source": [
    "print(\"Hello\", input())"
   ]
  },
  {
   "cell_type": "markdown",
   "metadata": {},
   "source": [
    "002 Ask for the user’s first name and then ask for their surname and display the output message Hello [First Name] [Surname]."
   ]
  },
  {
   "cell_type": "code",
   "execution_count": 61,
   "metadata": {},
   "outputs": [
    {
     "name": "stdout",
     "output_type": "stream",
     "text": [
      "Sundaresan\n",
      "Raghava\n",
      "Hello Sundaresan Raghava\n"
     ]
    }
   ],
   "source": [
    "print(\"Hello\",input(),input())"
   ]
  },
  {
   "cell_type": "code",
   "execution_count": 65,
   "metadata": {},
   "outputs": [
    {
     "name": "stdout",
     "output_type": "stream",
     "text": [
      "Hello Sundaresan raghavan\n"
     ]
    }
   ],
   "source": [
    "first_name = \"Sundaresan\"\n",
    "second_name = \"raghavan\"\n",
    "print(\"Hello\",first_name,second_name) # print takes 2 arguments"
   ]
  },
  {
   "cell_type": "code",
   "execution_count": 67,
   "metadata": {},
   "outputs": [
    {
     "name": "stdout",
     "output_type": "stream",
     "text": [
      "5 a =\n"
     ]
    }
   ],
   "source": [
    "a = 5\n",
    "# Two objects are passed\n",
    "print(a,\"a =\") # Note the argument sequence"
   ]
  },
  {
   "cell_type": "markdown",
   "metadata": {},
   "source": [
    "003 Write code that will display the joke “What do you call a bear with no teeth?” and on the next line display the answer “A gummy bear!” Try to create it using only one line of code."
   ]
  },
  {
   "cell_type": "code",
   "execution_count": 79,
   "metadata": {},
   "outputs": [
    {
     "name": "stdout",
     "output_type": "stream",
     "text": [
      "What do you call a bear with no teeth?\n",
      "A Gummy bear\n"
     ]
    }
   ],
   "source": [
    "print(\"What do you call a bear with no teeth?\\nA Gummy bear\") # The Next line \\n even works within a single print string"
   ]
  },
  {
   "cell_type": "markdown",
   "metadata": {},
   "source": [
    "004 Ask the user to enter two numbers. Add them together and display the answer as The total is [answer]."
   ]
  },
  {
   "cell_type": "code",
   "execution_count": 81,
   "metadata": {},
   "outputs": [
    {
     "name": "stdout",
     "output_type": "stream",
     "text": [
      "The total is  200\n"
     ]
    }
   ],
   "source": [
    "number1 = 100\n",
    "number2 = 100\n",
    "number3 = number1 + number2\n",
    "print(\"The total is \", number3)"
   ]
  },
  {
   "cell_type": "markdown",
   "metadata": {},
   "source": [
    "006 Ask how many slices of pizza the user started with and ask how many slices they have eaten. Work out how many slices they have left and display the answer in a user friendly format."
   ]
  },
  {
   "cell_type": "code",
   "execution_count": 91,
   "metadata": {},
   "outputs": [
    {
     "name": "stdout",
     "output_type": "stream",
     "text": [
      "How many slices of pizza you started with 10\n",
      "How many slices of pizza you ate 5\n",
      "10 5\n",
      "The number of pizzas left is  5\n"
     ]
    }
   ],
   "source": [
    "\n",
    "# Remember to put input() in braces (int) ( input() ) and then typecast to int\n",
    "\n",
    "Start_no_pizzas = (int) (input(\"How many slices of pizza you started with \"))\n",
    "Eaten_no_pizzas = (int) (input(\"How many slices of pizza you ate \"))\n",
    "print(Start_no_pizzas,Eaten_no_pizzas)\n",
    "Left_no_pizzas = Start_no_pizzas - Eaten_no_pizzas\n",
    "print(\"The number of pizzas left is \" , Left_no_pizzas)"
   ]
  },
  {
   "cell_type": "markdown",
   "metadata": {},
   "source": [
    "007 Ask the user for their name and their age. Add 1 to their age and display the output [Name] next birthday you\n",
    "will be [new age]."
   ]
  },
  {
   "cell_type": "markdown",
   "metadata": {},
   "source": [
    "name1 = input(\"What is you name\")\n",
    "Age1 = (int)(input(\"What is your age\"))\n",
    "\n",
    "print(\"Next Birthday you will be \",(Age1+1))"
   ]
  },
  {
   "cell_type": "markdown",
   "metadata": {},
   "source": [
    "# Chapter 2\n",
    "# If Condition"
   ]
  },
  {
   "cell_type": "markdown",
   "metadata": {},
   "source": [
    "012 Ask for two numbers. If the first one is larger han the second, display the second number first and then the first\n",
    "number, otherwise show the first number first and then the second."
   ]
  },
  {
   "cell_type": "code",
   "execution_count": 99,
   "metadata": {},
   "outputs": [
    {
     "name": "stdout",
     "output_type": "stream",
     "text": [
      "Enter the first number 10\n",
      "Enter the secont number10\n",
      "The first and second number are equal  10\n"
     ]
    }
   ],
   "source": [
    "First_number = (int)(input(\"Enter the first number \"))\n",
    "Second_number = (int) (input(\"Enter the secont number\"))\n",
    "\n",
    "if First_number > Second_number :\n",
    "    print(\"The first number is greater and is \", First_number)\n",
    "elif First_number == Second_number : \n",
    "    print(\"The first and second number are equal \", Second_number)\n",
    "else :\n",
    "          print(\"Second number is greater than first number \", Second_number)\n",
    "                \n",
    "          "
   ]
  },
  {
   "cell_type": "code",
   "execution_count": 9,
   "metadata": {},
   "outputs": [
    {
     "name": "stdout",
     "output_type": "stream",
     "text": [
      "('India', 'Pakistan', 'USA', 'UK', 'Canada')\n"
     ]
    }
   ],
   "source": [
    "Tuple_of_Countries = (\"India\" , \"Pakistan\",\"USA\",\"UK\",\"Canada\") \n",
    "print(Tuple_of_Countries)"
   ]
  },
  {
   "cell_type": "markdown",
   "metadata": {},
   "source": [
    "# Chapter 3\n",
    "# Strings"
   ]
  },
  {
   "cell_type": "markdown",
   "metadata": {},
   "source": [
    "020 Ask the user to enter their first name and then display the length of their name."
   ]
  },
  {
   "cell_type": "code",
   "execution_count": 103,
   "metadata": {},
   "outputs": [
    {
     "name": "stdout",
     "output_type": "stream",
     "text": [
      "Enter the first name sundaresan\n",
      "sundaresan 10\n"
     ]
    }
   ],
   "source": [
    "# To find lenth of string use the function len(object)\n",
    "\n",
    "name_ch3 = input(\"Enter the first name \")\n",
    "print(name_ch3,len(name_ch3))                "
   ]
  },
  {
   "cell_type": "markdown",
   "metadata": {},
   "source": [
    "021 Ask the user to enter their first name and then ask them to enter their surname. Join them together with a space between\n",
    "and display the name and the length of whole name."
   ]
  },
  {
   "cell_type": "code",
   "execution_count": 107,
   "metadata": {},
   "outputs": [
    {
     "name": "stdout",
     "output_type": "stream",
     "text": [
      "Enter the first name sundaresan\n",
      "Enter the first name raghavan\n",
      "sundaresan raghavan 19\n"
     ]
    }
   ],
   "source": [
    "# To find lenth of string use the function len(object)\n",
    "# use \" \" to add blank space --- string2 + \" \" + string2\n",
    "\n",
    "name_ch3ex2  = input(\"Enter the first name \")\n",
    "surname_ch3ex2  = input(\"Enter the first name \")\n",
    "full_name_ch3ex2 = name_ch3ex2 + \" \"+ surname_ch3ex2\n",
    "print(full_name_ch3ex2, len(full_name_ch3ex2))"
   ]
  },
  {
   "cell_type": "markdown",
   "metadata": {},
   "source": [
    "022 Ask the user to enter their first name and surname in lower case. Change the case to title case and join them together.\n",
    "Display the finished result."
   ]
  },
  {
   "cell_type": "code",
   "execution_count": 108,
   "metadata": {},
   "outputs": [
    {
     "name": "stdout",
     "output_type": "stream",
     "text": [
      "Enter the first name sundaresan\n",
      "Enter the first name raghavan\n",
      "Sundaresan Raghavan 19\n"
     ]
    }
   ],
   "source": [
    "# To change to title case use the function title() --- str = str.title()\n"
   ]
  },
  {
   "cell_type": "markdown",
   "metadata": {},
   "source": [
    "023 Ask the user to type in the first line of a nursery rhyme and display the length of the string.\n",
    "Ask for a starting number and an ending number and then display just that section of the text (remember Python starts\n",
    "counting from 0 and not 1)."
   ]
  },
  {
   "cell_type": "code",
   "execution_count": 2,
   "metadata": {},
   "outputs": [
    {
     "name": "stdout",
     "output_type": "stream",
     "text": [
      "Enter the first name sundaresan\n",
      "10\n",
      "Enter the surnam name raghavan\n",
      "8\n",
      "\n",
      "The full name is  sundaresan raghavan\n",
      "3\n",
      "7\n",
      "3\n",
      "7\n",
      "dare\n"
     ]
    }
   ],
   "source": [
    "# use the function print(str[start:end] for example print (“Hello world”[7:10])\n",
    "\n",
    "\n",
    "name_ch3ex3  = input(\"Enter the first name \")\n",
    "len_ch3ex3 = len(name_ch3ex3)\n",
    "print(len_ch3ex3)\n",
    "\n",
    "surname_ch3ex3  = input(\"Enter the surnam name \")\n",
    "lensurname__ch3ex3 = len(surname_ch3ex3)\n",
    "print(lensurname__ch3ex3)\n",
    "print()\n",
    "\n",
    "full_name_ch3ex3 = name_ch3ex3 + \" \"+ surname_ch3ex3\n",
    "print(\"The full name is \", full_name_ch3ex3)\n",
    "\n",
    "start = (int) (input())\n",
    "end = (int) (input())\n",
    "            \n",
    "print(start)\n",
    "print(end)\n",
    "           \n",
    "\n",
    "print(full_name_ch3ex3[start:end])"
   ]
  },
  {
   "cell_type": "markdown",
   "metadata": {},
   "source": [
    "# For Loop\n",
    "\n",
    "If you've done any programming before, you have undoubtedly come across a for loop or an equivalent to it. Many languages have conditions in the syntax of their for loop, such as a relational expression to determine if the loop is done, and an increment expression to determine the next loop value. \n",
    "\n",
    "## In Python this is controlled instead by generating the appropriate sequence. Basically, any object with an iterable method can be used in a for loop. Even strings, despite not having an iterable method - but we'll not get on to that here. Having an iterable method basically means that the data can be presented in list form, where there are multiple values in an orderly fashion.  \n",
    "\n",
    "# The for loop statement basically is the following\n",
    "\n",
    "# for i in list ie, --->   for i in [1,2,3,4,5,6]\n",
    "\n",
    "# for i in list ie, --->   for i in [\"H\",\"E\",\"l\",\"l\",\"O\"]\n",
    "\n",
    "# OR\n",
    "\n",
    "# for in string ie --->  for in \"Hello\"\n",
    "\n",
    "\n",
    "\n",
    "\n"
   ]
  },
  {
   "cell_type": "code",
   "execution_count": 17,
   "metadata": {},
   "outputs": [
    {
     "name": "stdout",
     "output_type": "stream",
     "text": [
      "1\n",
      "2\n",
      "3\n",
      "4\n",
      "5\n",
      "6\n"
     ]
    }
   ],
   "source": [
    "List = [1,2,3,4,5,6]\n",
    "\n",
    "for i in List:\n",
    "    print(i)"
   ]
  },
  {
   "cell_type": "code",
   "execution_count": 16,
   "metadata": {},
   "outputs": [
    {
     "name": "stdout",
     "output_type": "stream",
     "text": [
      "1\n",
      "2\n",
      "3\n",
      "4\n",
      "5\n",
      "6\n"
     ]
    }
   ],
   "source": [
    "for i in [1,2,3,4,5,6]:\n",
    "    print(i)"
   ]
  },
  {
   "cell_type": "code",
   "execution_count": 21,
   "metadata": {},
   "outputs": [
    {
     "name": "stdout",
     "output_type": "stream",
     "text": [
      "H\n",
      "E\n",
      "L\n",
      "L\n",
      "0\n"
     ]
    }
   ],
   "source": [
    "for i in [\"H\",\"E\",\"L\",\"L\",\"0\"]:\n",
    "    print(i)"
   ]
  },
  {
   "cell_type": "code",
   "execution_count": 18,
   "metadata": {},
   "outputs": [
    {
     "name": "stdout",
     "output_type": "stream",
     "text": [
      "H\n",
      "e\n",
      "l\n",
      "l\n",
      "o\n"
     ]
    }
   ],
   "source": [
    "word =\"Hello\"\n",
    "for i in word:\n",
    "    print(i)\n",
    "#This would display each character in a string called “word” as a separate output (i.e. on a separate line)."
   ]
  },
  {
   "cell_type": "markdown",
   "metadata": {},
   "source": [
    "# Tuples, Lists and Dictionaries\n",
    "\n",
    "# Tuples, Lists and Dictionaries are ways by which a collection of data can be stored as a single item\n",
    "\n",
    "**Lists [ ]\n",
    "The contents of a list can be changed while the program is running and lists are one of the most common ways to store a collection of data under one variable name in Python.**\n",
    "\n",
    "The data in a list does not all have to be of the same data type. For example, the same list can store both strings and integers; however, this can cause problems later and is therefore not recommended.\n",
    "\n",
    "ex : names_list = [“John”,“Tim”,“Sam”]\n",
    "\n",
    "Please note: In other programming languages the term array is often used to describe a variable that contains a collection of data, and these work in a similar way to lists in Python. There is a data type called an array in Python, but this is only used to store numbers\n",
    "\n",
    "**Tuples ( )\n",
    "Once a tuple is defined you cannot change what is stored in it**. Tuples are usually used for menu items that would not need to be changed.\n",
    "\n",
    "ex : fruit_tuple = (“apple”,“banana”,“strawberry”,“orange”)\n",
    "\n",
    "** Dictionaries { }\n",
    "The contents of a dictionary can also be changed while the program is running. Each value is given an index or key you can define to help identify each piece of data. This index will not change if other rows of data are added or deleted, unlike lists where the position of the items can change and therefore their index number will also change.\n",
    "\n",
    "ex: colours = {1:“red”,2:“blue”,3:“green”}\n",
    "\n",
    "** List [ ], Tuple( ), Dictionary { } **"
   ]
  },
  {
   "cell_type": "markdown",
   "metadata": {},
   "source": [
    "070\n",
    "Add to program 069 to ask the\n",
    "user to enter a number and\n",
    "display the country in that\n",
    "position"
   ]
  },
  {
   "cell_type": "code",
   "execution_count": null,
   "metadata": {},
   "outputs": [
    {
     "name": "stdout",
     "output_type": "stream",
     "text": [
      "Enter the number of the country to be displayed : \n"
     ]
    }
   ],
   "source": [
    "print (\"Enter the number of the country to be displayed : \")\n",
    "Coutry_is = int (input())\n",
    "print (Tuple_of_Countries[Coutry_is])"
   ]
  },
  {
   "cell_type": "markdown",
   "metadata": {},
   "source": [
    "071 Create a list of two sports. Ask the user what their favourite sport is and add this to the end of the list. Sort the\n",
    "list and display it."
   ]
  },
  {
   "cell_type": "code",
   "execution_count": 11,
   "metadata": {},
   "outputs": [
    {
     "name": "stdout",
     "output_type": "stream",
     "text": [
      "['Cricket', 'Football']\n"
     ]
    }
   ],
   "source": [
    "sports_list = [\"Cricket\", \"Football\"] \n",
    "print (sports_list)"
   ]
  },
  {
   "cell_type": "code",
   "execution_count": 12,
   "metadata": {},
   "outputs": [
    {
     "name": "stdout",
     "output_type": "stream",
     "text": [
      "What is your favourite sport\n",
      "Volleyball\n",
      "['Cricket', 'Football', 'Volleyball']\n",
      "['Cricket', 'Football', 'Volleyball']\n"
     ]
    }
   ],
   "source": [
    "print (\"What is your favourite sport\")\n",
    "get_input = (str) (input())\n",
    "sports_list.append(get_input)\n",
    "print (sports_list)\n",
    "sports_list.sort()\n",
    "print(sports_list)"
   ]
  },
  {
   "cell_type": "markdown",
   "metadata": {},
   "source": [
    "072   Create a list of six school subjects. Ask the user which of these subjects they don’t like. Delete the subject they have chosen from the list before you display the list again."
   ]
  },
  {
   "cell_type": "code",
   "execution_count": 1,
   "metadata": {},
   "outputs": [
    {
     "name": "stdout",
     "output_type": "stream",
     "text": [
      "['Sanskrit', 'Tamil', 'English', 'Social Science', 'Science', 'Maths']\n"
     ]
    }
   ],
   "source": [
    "Subject_list = [\"Sanskrit\",\"Tamil\",\"English\",\"Social Science\",\"Science\",\"Maths\"]\n",
    "print(Subject_list)"
   ]
  },
  {
   "cell_type": "code",
   "execution_count": 2,
   "metadata": {},
   "outputs": [
    {
     "name": "stdout",
     "output_type": "stream",
     "text": [
      "Which Subject you don't like\n"
     ]
    }
   ],
   "source": [
    "print(\"Which Subject you don't like\")"
   ]
  },
  {
   "cell_type": "code",
   "execution_count": null,
   "metadata": {},
   "outputs": [],
   "source": [
    "# The Function input() return trype is string.\n",
    "# Important : Ensure the key Enter is pressed in the keyboard after the input is keyedin in the test box\n",
    "# Also insure IN[*] doesn't appear on Jupyter's line on Left hand side, this means kernel is busy"
   ]
  },
  {
   "cell_type": "code",
   "execution_count": 2,
   "metadata": {},
   "outputs": [
    {
     "name": "stdout",
     "output_type": "stream",
     "text": [
      "Sanskrit\n"
     ]
    }
   ],
   "source": [
    "Dont_like_Sub = input()"
   ]
  },
  {
   "cell_type": "code",
   "execution_count": null,
   "metadata": {},
   "outputs": [],
   "source": [
    "# In the below line, index () is a function called by the object String"
   ]
  },
  {
   "cell_type": "code",
   "execution_count": 3,
   "metadata": {},
   "outputs": [],
   "source": [
    "get_index = Subject_list.index(Dont_like_Sub)"
   ]
  },
  {
   "cell_type": "code",
   "execution_count": 4,
   "metadata": {},
   "outputs": [],
   "source": [
    "del Subject_list[get_index]"
   ]
  },
  {
   "cell_type": "code",
   "execution_count": 5,
   "metadata": {},
   "outputs": [
    {
     "name": "stdout",
     "output_type": "stream",
     "text": [
      "['Tamil', 'English', 'Social Science', 'Science', 'Maths']\n"
     ]
    }
   ],
   "source": [
    "print(Subject_list)"
   ]
  },
  {
   "cell_type": "markdown",
   "metadata": {},
   "source": [
    "073 Ask the user to enter four of their favourite foods and store them in a dictionary so that they are indexed with numbers starting from 1. Display the dictionary in full, showing the index number and the item. Ask them which they want to get rid of\n",
    "and remove it from the list. Sort the remaining data and display the dictionary."
   ]
  },
  {
   "cell_type": "code",
   "execution_count": 28,
   "metadata": {},
   "outputs": [
    {
     "name": "stdout",
     "output_type": "stream",
     "text": [
      "{1: 'Chapathi', 2: 'Adai', 3: 'Dosa', 4: 'Biyani', 5: 'Tandoori'}\n"
     ]
    }
   ],
   "source": [
    "# Code for 73 , Hard coded dictionary \n",
    "Favouite_food = {1:\"Chapathi\", 2:\"Adai\", 3:\"Dosa\", 4:\"Biyani\", 5:\"Tandoori\"}\n",
    "print (Favouite_food)"
   ]
  },
  {
   "cell_type": "code",
   "execution_count": 29,
   "metadata": {},
   "outputs": [
    {
     "name": "stdout",
     "output_type": "stream",
     "text": [
      "Which item to get rid and remove from the aobe list\n",
      "5\n"
     ]
    }
   ],
   "source": [
    "print(\"Which item to get rid and remove from the aobe list\")\n",
    "item = (int)(input())"
   ]
  },
  {
   "cell_type": "code",
   "execution_count": 30,
   "metadata": {},
   "outputs": [
    {
     "name": "stdout",
     "output_type": "stream",
     "text": [
      "{1: 'Chapathi', 2: 'Adai', 3: 'Dosa', 4: 'Biyani'}\n"
     ]
    }
   ],
   "source": [
    "del Favouite_food [item]\n",
    "print(Favouite_food)"
   ]
  },
  {
   "cell_type": "code",
   "execution_count": 31,
   "metadata": {},
   "outputs": [
    {
     "name": "stdout",
     "output_type": "stream",
     "text": [
      "['Adai', 'Biyani', 'Chapathi', 'Dosa']\n"
     ]
    }
   ],
   "source": [
    "print(sorted(Favouite_food.values()))"
   ]
  },
  {
   "cell_type": "code",
   "execution_count": 32,
   "metadata": {},
   "outputs": [
    {
     "name": "stdout",
     "output_type": "stream",
     "text": [
      "[1, 2, 3, 4]\n"
     ]
    }
   ],
   "source": [
    "print(sorted(Favouite_food))"
   ]
  },
  {
   "cell_type": "markdown",
   "metadata": {},
   "source": [
    "073 Solution by getting input from human"
   ]
  },
  {
   "cell_type": "code",
   "execution_count": 36,
   "metadata": {},
   "outputs": [
    {
     "name": "stdout",
     "output_type": "stream",
     "text": [
      "Enter your Favouite food\n",
      "Chapathi\n",
      "Enter your Favouite food\n",
      "Adai\n",
      "Enter your Favouite food\n",
      "Biryani\n",
      "Enter your Favouite food\n",
      "Keer\n",
      "Enter your Favouite food\n",
      "Carrot Halwa\n",
      "{1: 'Chapathi', 2: 'Adai', 3: 'Biryani', 4: 'Keer', 5: 'Carrot Halwa'}\n"
     ]
    }
   ],
   "source": [
    "Favouite_food1 = {}\n",
    "print(\"Enter your Favouite food\")\n",
    "Favouite_food1[1] = input()\n",
    "print(\"Enter your Favouite food\")\n",
    "Favouite_food1[2] = input()\n",
    "print(\"Enter your Favouite food\")\n",
    "Favouite_food1[3] = input()\n",
    "print(\"Enter your Favouite food\")\n",
    "Favouite_food1[4] = input()\n",
    "print(\"Enter your Favouite food\")\n",
    "Favouite_food1[5] = input()\n",
    "print(Favouite_food1)"
   ]
  },
  {
   "cell_type": "code",
   "execution_count": 37,
   "metadata": {},
   "outputs": [
    {
     "name": "stdout",
     "output_type": "stream",
     "text": [
      "dict_values(['Chapathi', 'Adai', 'Biryani', 'Keer', 'Carrot Halwa'])\n",
      "['Adai', 'Biryani', 'Carrot Halwa', 'Chapathi', 'Keer']\n"
     ]
    }
   ],
   "source": [
    "print(Favouite_food1.values())\n",
    "print(sorted(Favouite_food1.values()))\n"
   ]
  },
  {
   "cell_type": "code",
   "execution_count": 38,
   "metadata": {},
   "outputs": [
    {
     "name": "stdout",
     "output_type": "stream",
     "text": [
      "Which item to delete\n",
      "4\n",
      "{1: 'Chapathi', 2: 'Adai', 3: 'Biryani', 5: 'Carrot Halwa'}\n"
     ]
    }
   ],
   "source": [
    "print (\"Which item to delete\")\n",
    "item_del1 = (int)(input())\n",
    "del Favouite_food1[item_del1]\n",
    "print(Favouite_food1)\n"
   ]
  },
  {
   "cell_type": "markdown",
   "metadata": {},
   "source": [
    "074 Enter a list of ten colours. Ask the user for a starting number between 0 and 4 and an end number between 5 and 9. Display\n",
    "the list for those colours between the start and end numbers the user input."
   ]
  },
  {
   "cell_type": "code",
   "execution_count": 3,
   "metadata": {},
   "outputs": [
    {
     "name": "stdout",
     "output_type": "stream",
     "text": [
      "Enter the colour\n",
      "Violet\n",
      "Enter the colour\n",
      "Indito\n",
      "Enter the colour\n",
      "Blue\n",
      "Enter the colour\n",
      "Green\n",
      "Enter the colour\n",
      "Orange\n",
      "Enter the colour\n",
      "Red\n",
      "Enter the colour\n",
      "Megenta\n",
      "Enter the colour\n",
      "Pink\n",
      "Enter the colour\n",
      "Yellow\n",
      "{1: 'Violet', 2: 'Indito', 3: 'Blue', 4: 'Green', 5: 'Orange', 6: 'Red', 7: 'Megenta', 8: 'Pink', 9: 'Yellow'}\n"
     ]
    }
   ],
   "source": [
    "Dic_of_colours  = {}\n",
    "\n",
    "for i in range(1,10):\n",
    "\n",
    "   print(\"Enter the colour\")\n",
    "   Dic_of_colours[i]  = input()\n",
    "\n",
    "print(Dic_of_colours)\n",
    "    "
   ]
  },
  {
   "cell_type": "code",
   "execution_count": 4,
   "metadata": {},
   "outputs": [
    {
     "name": "stdout",
     "output_type": "stream",
     "text": [
      "dict_values(['Violet', 'Indito', 'Blue', 'Green', 'Orange', 'Red', 'Megenta', 'Pink', 'Yellow'])\n"
     ]
    }
   ],
   "source": [
    "print(Dic_of_colours.values())"
   ]
  },
  {
   "cell_type": "code",
   "execution_count": 5,
   "metadata": {},
   "outputs": [
    {
     "name": "stdout",
     "output_type": "stream",
     "text": [
      "Enter the number between 1 to 4\n",
      "3\n",
      "Enter the number between 5 to 9\n",
      "7\n"
     ]
    }
   ],
   "source": [
    "print(\"Enter the number between 1 to 4\")\n",
    "first_number = (int)(input())\n",
    "print(\"Enter the number between 5 to 9\")\n",
    "second_number = (int)(input())"
   ]
  },
  {
   "cell_type": "code",
   "execution_count": 34,
   "metadata": {},
   "outputs": [
    {
     "name": "stdout",
     "output_type": "stream",
     "text": [
      "Blue\n",
      "Green\n",
      "Orange\n",
      "Red\n"
     ]
    }
   ],
   "source": [
    "#Dic_of_colours[first_number:second_number] # error nhashable type: 'slice'\n",
    "\n",
    "for i in range(first_number, second_number):\n",
    "        print(Dic_of_colours[i])"
   ]
  },
  {
   "cell_type": "markdown",
   "metadata": {},
   "source": [
    "075 Create a list of four three-digit numbers. Display the list to the user, showing each item from the list on a separate line. Ask the user to enter a three-digit number. If the number they have typed in matches one in  the list, display the position of\n",
    "that number in the list, otherwise display the message “That is not in the list”."
   ]
  },
  {
   "cell_type": "code",
   "execution_count": 41,
   "metadata": {},
   "outputs": [
    {
     "name": "stdout",
     "output_type": "stream",
     "text": [
      "100\n",
      "200\n",
      "300\n",
      "400\n"
     ]
    }
   ],
   "source": [
    "Num_list = [100,200,300,400]\n",
    "\n",
    "#for i in range(0,3):\n",
    "for i in Num_list:\n",
    "    \n",
    "    #print(Num_list [i])\n",
    "    print(i)"
   ]
  },
  {
   "cell_type": "code",
   "execution_count": 47,
   "metadata": {},
   "outputs": [
    {
     "name": "stdout",
     "output_type": "stream",
     "text": [
      "Enter a 3 digit number\n",
      "200\n",
      "That is not in teh list\n",
      "The number matesh with that in list\n",
      "That is not in teh list\n"
     ]
    }
   ],
   "source": [
    "print(\"Enter a 3 digit number\")\n",
    "input_number = (int)(input())\n",
    "\n",
    "for i in range(0,3):\n",
    "\n",
    "    if input_number == Num_list[i]:\n",
    "        print(\"The number matesh with that in list\")\n",
    "    else :\n",
    "          print(\"That is not in teh list\")"
   ]
  },
  {
   "cell_type": "code",
   "execution_count": 53,
   "metadata": {},
   "outputs": [
    {
     "name": "stdout",
     "output_type": "stream",
     "text": [
      "First line \n",
      "Second line\n"
     ]
    }
   ],
   "source": [
    "print(\"First line \\nSecond line\")"
   ]
  },
  {
   "cell_type": "markdown",
   "metadata": {},
   "source": [
    "# Arrays\n",
    "\n",
    "Python arrays are similar to lists, but they are only used to store numbers. Numbers can have varying ranges, but\n",
    "in an array all pieces of data in that array must have the same data type. When you create your array you need to define the type of data it will contain.\n",
    "\n",
    "from array import *\n",
    "This needs to be the first line of your program so that\n",
    "Python can use the array library.\n",
    "\n"
   ]
  },
  {
   "cell_type": "code",
   "execution_count": 3,
   "metadata": {},
   "outputs": [
    {
     "name": "stdout",
     "output_type": "stream",
     "text": [
      "array('i', [45, 324, 654, 45, 264])\n"
     ]
    }
   ],
   "source": [
    "from array import *\n",
    "\n",
    "nums = array (\"i\",[45,324,654,45,264])\n",
    "print(nums)"
   ]
  },
  {
   "cell_type": "code",
   "execution_count": 2,
   "metadata": {},
   "outputs": [
    {
     "name": "stdout",
     "output_type": "stream",
     "text": [
      "45\n",
      "324\n",
      "654\n",
      "45\n",
      "264\n"
     ]
    }
   ],
   "source": [
    "for x in nums:\n",
    "    print(x)"
   ]
  },
  {
   "cell_type": "markdown",
   "metadata": {},
   "source": [
    "088 Ask the user for a list of five integers. Store them in an array. Sort the list and display it in\n",
    "reverse order."
   ]
  },
  {
   "cell_type": "code",
   "execution_count": 13,
   "metadata": {},
   "outputs": [
    {
     "name": "stdout",
     "output_type": "stream",
     "text": [
      "Input the array element11\n",
      "Input the array element12\n",
      "Input the array element13\n",
      "Input the array element14\n",
      "Input the array element15\n",
      "Input the array element16\n",
      "The Array is  array('i', [11, 12, 13, 14, 15, 16])\n",
      "11\n",
      "12\n",
      "13\n",
      "14\n",
      "15\n",
      "16\n"
     ]
    }
   ],
   "source": [
    "from array import *\n",
    "\n",
    "Integer_array = array ('i',[])\n",
    "\n",
    "for i in range(0,6):\n",
    "    get_in = (int) (input(\"Input the array element\"))\n",
    "    Integer_array.append(get_in)\n",
    "       \n",
    "    \n",
    "print(\"The Array is \", Integer_array)   \n",
    "\n",
    "for i in Integer_array:\n",
    "    print(i)\n",
    "    "
   ]
  },
  {
   "cell_type": "markdown",
   "metadata": {},
   "source": [
    "089 Create an array which will store a list of integers. Generate five random numbers and store them in\n",
    "the array. Display the array (showing each item on a separate line)."
   ]
  },
  {
   "cell_type": "code",
   "execution_count": 8,
   "metadata": {},
   "outputs": [
    {
     "name": "stdout",
     "output_type": "stream",
     "text": [
      "array('i', [845, 605, 266, 657, 495])\n"
     ]
    }
   ],
   "source": [
    "import random\n",
    "from array import *\n",
    "\n",
    "array_list = array (\"i\",[])\n",
    "\n",
    "for i in [1,2,3,4,5] : # Iterating the for loop 5 times with list of 5 elements  \n",
    "\n",
    "    get_in1 = (int)(random.randint(1,1000))\n",
    "    array_list.append(get_in1)\n",
    "    \n",
    "print(array_list)    \n",
    "    \n"
   ]
  },
  {
   "cell_type": "markdown",
   "metadata": {},
   "source": [
    "090 Ask the user to enter numbers. If they enter a number between 10 and 20, save it in the array, otherwise display the message “Outside the range”. Once five numbers have been successfully added, display the message “Thank you” and display the array with each item shown on a separate line."
   ]
  },
  {
   "cell_type": "code",
   "execution_count": 17,
   "metadata": {},
   "outputs": [
    {
     "name": "stdout",
     "output_type": "stream",
     "text": [
      "Enter the first number 20\n",
      "Enter the second number11\n",
      "array('i', [20, 11])\n"
     ]
    }
   ],
   "source": [
    "Input90_1= (int)(input(\"Enter the first number \"))\n",
    "Input90_2 = (int)(input(\"Enter the second number\"))\n",
    "\n",
    "Array_90 = array(\"i\",[])\n",
    "\n",
    "if ((Input90_1 >10 ) and (Input90_2 > 10)):\n",
    "    Input_is_Gr_th10 = 1\n",
    "    \n",
    "if ((Input90_1 <20 ) and (Input90_2 < 20)):\n",
    "    Input_is_Less_th20 = 1 \n",
    "    \n",
    "if( Input_is_Gr_th10 ==1 and Input_is_Less_th20 ) :\n",
    "   Array_90 = array(\"i\",[Input90_1,Input90_2]) \n",
    "\n",
    "print(Array_90)"
   ]
  },
  {
   "cell_type": "markdown",
   "metadata": {},
   "source": [
    "091 Create an array which contains five numbers (two of which should be repeated). Display the whole array to the user. Ask\n",
    "the user to enter one of the numbers from the array and then display a message saying how many times that number\n",
    "appears in the list."
   ]
  },
  {
   "cell_type": "code",
   "execution_count": 6,
   "metadata": {},
   "outputs": [
    {
     "name": "stdout",
     "output_type": "stream",
     "text": [
      "array('i')\n",
      "Enter the array element1\n",
      "Enter the array element1\n",
      "Enter the array element2\n",
      "Enter the array element3\n",
      "Enter the array element4\n",
      "array('i', [1, 1, 2, 3, 4])\n",
      "Check for repetition of this number 3\n",
      " This number is repeating  3\n",
      "It repeated this times 1\n"
     ]
    }
   ],
   "source": [
    "from array import *\n",
    "import random\n",
    "Array_91 = array (\"i\",[])\n",
    "rep = 0\n",
    "rep_num_is = 0\n",
    "\n",
    "print(Array_91)\n",
    "\n",
    "\n",
    "# Creating the array\n",
    "for i in [1,2,3,4,5]:\n",
    "    input91 = (int)(input(\"Enter the array element\"))\n",
    "    Array_91.append(input91)\n",
    "    \n",
    "print(Array_91)   \n",
    "\n",
    "input91_check = (int)(input(\"Check for repetition of this number \"))\n",
    "\n",
    "for i in [0,1,2,3,4]:\n",
    "    if(input91_check == Array_91[i]):\n",
    "        rep = rep+1\n",
    "        rep_num_is = input91_check\n",
    "        \n",
    "         \n",
    "        \n",
    "if(rep>0):\n",
    "    print(\" This number is repeating \",rep_num_is)\n",
    "    print(\"It repeated this times\",rep)\n",
    "    \n",
    "else:\n",
    "    print(\"the number doesn't repeat\")\n",
    "    \n",
    "    "
   ]
  },
  {
   "cell_type": "markdown",
   "metadata": {},
   "source": [
    "092 appears in the list. Create two arrays (one containing three numbers that the user enters and one containing a set of five random numbers). Join these two arrays together into one large array. Sort this large array and display it so that each number appears on a separate line."
   ]
  },
  {
   "cell_type": "code",
   "execution_count": 7,
   "metadata": {},
   "outputs": [
    {
     "name": "stdout",
     "output_type": "stream",
     "text": [
      "Enter the array element1\n",
      "Enter the array element2\n",
      "Enter the array element3\n",
      "array('i', [1, 2, 3])\n",
      "Print the ramdom array Array92_r  array('i', [3, 3, 3, 3, 3])\n",
      "array('i', [1, 2, 3, 3, 3, 3, 3, 3])\n",
      "array('i', [1, 2, 3, 3, 3, 3, 3, 3])\n",
      "1\n",
      "2\n",
      "3\n",
      "3\n",
      "3\n",
      "3\n",
      "3\n",
      "3\n"
     ]
    }
   ],
   "source": [
    "from array import *\n",
    "Array92 = array(\"i\",[])\n",
    "Array92_r = array(\"i\",[])\n",
    "for i in [1,2,3]:\n",
    "    input92 = (int)(input(\"Enter the array element\"))\n",
    "    Array92.append(input92)\n",
    "    \n",
    "print(Array92)  \n",
    "\n",
    "for i in [1,2,3,4,5]:\n",
    "    input92_r = random.random()\n",
    "    Array92_r.append(input92)\n",
    "    \n",
    "print(\"Print the ramdom array Array92_r \",Array92_r)\n",
    "\n",
    "Array02_join = Array92 + Array92_r\n",
    "\n",
    "print(Array02_join)\n",
    "\n",
    "sorted(Array02_join)\n",
    "\n",
    "print(Array02_join)\n",
    "\n",
    "for i in Array02_join:\n",
    "    print(i)\n",
    "\n",
    "\n",
    "\n",
    "\n",
    "\n",
    "      "
   ]
  },
  {
   "cell_type": "markdown",
   "metadata": {},
   "source": [
    "093 Ask the user to enter five numbers. Sort them into order and present them to the user. Ask them to select one of the\n",
    "numbers. Remove it from the original array and save it in a new array."
   ]
  },
  {
   "cell_type": "code",
   "execution_count": 67,
   "metadata": {},
   "outputs": [
    {
     "name": "stdout",
     "output_type": "stream",
     "text": [
      "Enter the array element1\n",
      "Enter the array element2\n",
      "Enter the array element3\n",
      "Enter the array element7\n",
      "Enter the array element4\n",
      "Select the number to remove 4\n",
      "2\n",
      "3\n",
      "4\n",
      "control comming inside to remove \n",
      "[1, 2, 3, 7]\n"
     ]
    }
   ],
   "source": [
    "from array import *\n",
    "Array93 = array(\"i\",[])\n",
    "\n",
    "\n",
    "for i in [1,2,3,4,5]:\n",
    "    Array93_iput= (int)(input(\"Enter the array element\"))\n",
    "    Array93.append(Array93_iput)  # Always use array.appen()\n",
    "    \n",
    "Array93 = sorted(Array93)    # Just calling sorted(Array93)  will not work you nave to assign as Array93 = sorted(Array93)                           \n",
    "\n",
    "remove93 = (int)(input(\"Select the number to remove \"))\n",
    "                                \n",
    "                                \n",
    "for j in range(1,4,1): # Getting our of range if i make it for j in [1,2,3,4,5]: why ?? because in the loop below \n",
    "                       #removing 1 element of the array\n",
    "    print(Array93[j])    \n",
    "    if(Array93[j] == remove93):\n",
    "        print(\"control comming inside to remove \")  \n",
    "        Array93.remove(remove93)\n",
    "                                    \n",
    "print(Array93)                                \n",
    "         "
   ]
  },
  {
   "cell_type": "markdown",
   "metadata": {},
   "source": [
    "## "
   ]
  },
  {
   "cell_type": "markdown",
   "metadata": {},
   "source": [
    "094 Display an array of five numbers. Ask the user to select one of the numbers. Once they have selected a number, display the\n",
    "position of that item in the array. If they enter something that is not in the array, ask them to try again until they select a\n",
    "relevant item."
   ]
  },
  {
   "cell_type": "code",
   "execution_count": 86,
   "metadata": {},
   "outputs": [
    {
     "name": "stdout",
     "output_type": "stream",
     "text": [
      "array('i', [1, 2, 3, 4, 5])\n",
      "Select a number from Array045\n",
      "The selected number is  5\n",
      "0\n",
      "The element is not in the array\n",
      "1\n",
      "The element is not in the array\n",
      "2\n",
      "The element is not in the array\n",
      "3\n",
      "The element is not in the array\n",
      "4\n",
      "The position of the element is  4\n"
     ]
    }
   ],
   "source": [
    "\n",
    "Array04 = array(\"i\",[1,2,3,4,5])  \n",
    "\n",
    "print(Array04)\n",
    "\n",
    "input94=(int)(input(\"Select a number from Array04\"))\n",
    "\n",
    "print(\"The selected number is \", input94)\n",
    "\n",
    "for i in range(0,5,1): # range starts with 0-->1-->2-->3-->4\n",
    "    print(i)\n",
    "    \n",
    "    if(input94 == Array04[i] ):\n",
    "        position94 = Array04.index(Array04[i])\n",
    "        print(\"The position of the element is \",position94) \n",
    "    else: \n",
    "        print(\"The element is not in the array\")\n"
   ]
  },
  {
   "cell_type": "code",
   "execution_count": 84,
   "metadata": {},
   "outputs": [
    {
     "name": "stdout",
     "output_type": "stream",
     "text": [
      "1\n"
     ]
    }
   ],
   "source": [
    "Array04 = array(\"i\",[1,2,3,4,5])  # Index of array starts with 0\n",
    "\n",
    "index = Array04.index(2)\n",
    "print(index)"
   ]
  },
  {
   "cell_type": "markdown",
   "metadata": {},
   "source": [
    "##  RANDOM Numbers"
   ]
  },
  {
   "cell_type": "markdown",
   "metadata": {},
   "source": [
    "052 Display a random integer between 1 and 100 inclusive.\n"
   ]
  },
  {
   "cell_type": "markdown",
   "metadata": {},
   "source": [
    "import random\n",
    "\n",
    "\n",
    "num = random.randint(1,100)\n",
    "print(num)"
   ]
  },
  {
   "cell_type": "code",
   "execution_count": 2,
   "metadata": {},
   "outputs": [
    {
     "name": "stdout",
     "output_type": "stream",
     "text": [
      "9\n"
     ]
    }
   ],
   "source": [
    "import random\n",
    "num = random.randint(1,100) \n",
    "print(num)"
   ]
  },
  {
   "cell_type": "markdown",
   "metadata": {},
   "source": [
    "## Sub Functions   -- Functions"
   ]
  },
  {
   "cell_type": "code",
   "execution_count": 103,
   "metadata": {},
   "outputs": [
    {
     "name": "stdout",
     "output_type": "stream",
     "text": [
      "\n",
      "Hello\n"
     ]
    }
   ],
   "source": [
    "def printhello(val):\n",
    "    \n",
    "    print(val)\n",
    "    \n",
    "    \n",
    "printval = \"Hello\"\n",
    "\n",
    "print()\n",
    "\n",
    "printhello(printval)   "
   ]
  },
  {
   "cell_type": "code",
   "execution_count": 102,
   "metadata": {},
   "outputs": [
    {
     "name": "stdout",
     "output_type": "stream",
     "text": [
      "30\n"
     ]
    }
   ],
   "source": [
    "Mulnum1 = 5\n",
    "Mulnum2 = 6\n",
    "\n",
    "def multiply(x,y):\n",
    "\n",
    "    product = x*y\n",
    "    return(product)\n",
    "\n",
    "\n",
    "Produ = multiply(Mulnum1,Mulnum2)\n",
    "\n",
    "print(Produ)"
   ]
  }
 ],
 "metadata": {
  "kernelspec": {
   "display_name": "Python 3",
   "language": "python",
   "name": "python3"
  },
  "language_info": {
   "codemirror_mode": {
    "name": "ipython",
    "version": 3
   },
   "file_extension": ".py",
   "mimetype": "text/x-python",
   "name": "python",
   "nbconvert_exporter": "python",
   "pygments_lexer": "ipython3",
   "version": "3.8.5"
  }
 },
 "nbformat": 4,
 "nbformat_minor": 4
}
